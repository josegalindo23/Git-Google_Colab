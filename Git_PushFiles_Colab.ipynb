{
  "nbformat": 4,
  "nbformat_minor": 0,
  "metadata": {
    "colab": {
      "provenance": []
    },
    "kernelspec": {
      "name": "python3",
      "display_name": "Python 3"
    },
    "language_info": {
      "name": "python"
    }
  },
  "cells": [
    {
      "cell_type": "markdown",
      "source": [
        "# Git And Github on Google Colab\n",
        "Lo siguiente será una guia para aprender a utilizar Git y como realizar cambios en un repositorio de Github a traves de Google Colab."
      ],
      "metadata": {
        "id": "YcscMPz0x344"
      }
    },
    {
      "cell_type": "markdown",
      "source": [
        "## Git And Github\n",
        "\n",
        "* Git:Es una sistema de  control de versiones (VCS) de codigo abierto que permite rastrear y administrar cambios en el código y otros archivos a lo largo del tiempo. Permite a equipos de desarrollo a colaborar de manera eficiente, manteniendo un historial de modificaciones, facilitando la reversión a versiones anteriores y permitiendo la colaboración en paralelo en proyectos.En otras palabras manejar una variedad de proyectos con rapidez y eficiencia.\n",
        "\n",
        "  El control de versiones es la práctica de seguimiento y gestión de cambios en código software.\n",
        "\n",
        "  Git es un VCS de distribución, lo que significa que no solo almacena el código actual, sino también todas las versiones anteriores. Esto permite a los desarrolladores volver a versiones anteriores de su código si es necesario, y también facilita la colaboración con otros desarrolladores.\n",
        "\n",
        "* Github: Es una plataforma de alojamiento de repositorios Git que permite a los desarrolladores compartir su código con otros. También ofrece una serie de características que facilitan la colaboración entre desarrolladores, como la posibilidad de revisar cambios, crear bifurcaciones y fusionar cambios."
      ],
      "metadata": {
        "id": "lOlKGPPFyAr_"
      }
    },
    {
      "cell_type": "markdown",
      "source": [
        "## DIFERENCIA ENTRE GIT Y GITHUB\n",
        "\n",
        "`Git` es un sistema de control de versiones que le permite administrar y realizar un seguimiento de su historial del código fuente, mientras que `Github` es un servicio de alojamiento basado en la nube que permite administras repositorios de `Git`.\n",
        "\n",
        "\n",
        "\n"
      ],
      "metadata": {
        "id": "4JfItU3lyDef"
      }
    },
    {
      "cell_type": "code",
      "source": [
        "!git config --global user.name \"\"\n",
        "!git config --global user.email \"\"\n",
        "!git config --global user.password \"\""
      ],
      "metadata": {
        "id": "acSKaFCNEdut"
      },
      "execution_count": 5,
      "outputs": []
    },
    {
      "cell_type": "markdown",
      "source": [
        "Para conseguir el `token` deberas ir al repositorio, darle a `configuracion`, ir a `configuraciones de desarrollador`, ir a `Acceso a tokens personales` y luego, `Genar un nuevo Token`"
      ],
      "metadata": {
        "id": "JJzbzjD5Gj3m"
      }
    },
    {
      "cell_type": "code",
      "execution_count": 6,
      "metadata": {
        "id": "tn12wLTDxYlG"
      },
      "outputs": [],
      "source": [
        "token = \"\"\n",
        "username = \"\"\n",
        "repo = \"\""
      ]
    },
    {
      "cell_type": "code",
      "source": [
        "# Clone the repository in our content of Google Colab\n",
        "!git clone https://{token}@github.com/{username}/{repo}"
      ],
      "metadata": {
        "id": "TlZ4gVC2GjMK",
        "colab": {
          "base_uri": "https://localhost:8080/"
        },
        "outputId": "eb4ead1c-47fb-4a27-b7be-f0d16fad806e"
      },
      "execution_count": 8,
      "outputs": [
        {
          "output_type": "stream",
          "name": "stdout",
          "text": [
            "Cloning into 'Git-Google_Colab'...\n",
            "remote: Enumerating objects: 3, done.\u001b[K\n",
            "remote: Counting objects: 100% (3/3), done.\u001b[K\n",
            "remote: Compressing objects: 100% (2/2), done.\u001b[K\n",
            "remote: Total 3 (delta 0), reused 0 (delta 0), pack-reused 0\u001b[K\n",
            "Receiving objects: 100% (3/3), done.\n"
          ]
        }
      ]
    },
    {
      "cell_type": "code",
      "source": [
        "# Change de directory\n",
        "%cd {repo}"
      ],
      "metadata": {
        "id": "eoZktHEyIaPY",
        "colab": {
          "base_uri": "https://localhost:8080/"
        },
        "outputId": "1c802a7f-883f-41ad-b5e2-8d71b616d157"
      },
      "execution_count": 9,
      "outputs": [
        {
          "output_type": "stream",
          "name": "stdout",
          "text": [
            "/content/Git-Google_Colab\n"
          ]
        }
      ]
    },
    {
      "cell_type": "code",
      "source": [
        "%ls"
      ],
      "metadata": {
        "id": "u1o8ZiPUInj3",
        "colab": {
          "base_uri": "https://localhost:8080/"
        },
        "outputId": "033e9a98-7853-4e59-d672-cb788279837b"
      },
      "execution_count": 10,
      "outputs": [
        {
          "output_type": "stream",
          "name": "stdout",
          "text": [
            "README.md\n"
          ]
        }
      ]
    },
    {
      "cell_type": "markdown",
      "source": [
        "En este punto, debemos subir el archivo que queremos agregar al repositorio a nuestro entorno de colab"
      ],
      "metadata": {
        "id": "eAPmGDIpKyHC"
      }
    },
    {
      "cell_type": "code",
      "source": [
        "# Move the file to the repo\n",
        "file_path = \"\"\n",
        "repo_path = \"\"\n",
        "%mv {file_path} {repo_path}"
      ],
      "metadata": {
        "id": "dGnDzYATIpN7"
      },
      "execution_count": null,
      "outputs": []
    },
    {
      "cell_type": "code",
      "source": [
        "#Check the status\n",
        "!git status"
      ],
      "metadata": {
        "id": "YJNrV0jtLorS"
      },
      "execution_count": null,
      "outputs": []
    },
    {
      "cell_type": "code",
      "source": [
        "!git add --all"
      ],
      "metadata": {
        "id": "S3htVHMOLzvi"
      },
      "execution_count": null,
      "outputs": []
    },
    {
      "cell_type": "code",
      "source": [
        "!git commit -a -m \"Added a file to the ...\""
      ],
      "metadata": {
        "id": "wLGEv9x9MB4k"
      },
      "execution_count": null,
      "outputs": []
    },
    {
      "cell_type": "code",
      "source": [
        "!git remote -v"
      ],
      "metadata": {
        "id": "nM5tLJfSMMRk"
      },
      "execution_count": null,
      "outputs": []
    },
    {
      "cell_type": "code",
      "source": [
        "!git push origin master"
      ],
      "metadata": {
        "id": "WrilGN5_MNBu"
      },
      "execution_count": null,
      "outputs": []
    },
    {
      "cell_type": "markdown",
      "source": [
        "# References"
      ],
      "metadata": {
        "id": "3joLsEYuMax_"
      }
    },
    {
      "cell_type": "markdown",
      "source": [
        "## Videos\n",
        "[Google Colab + Git: ¡Impulsar cambios en un repositorio de GitHub!](https://www.youtube.com/watch?v=eLhy3_d2UPo&ab_channel=AdrianDolinay) - from Adrian Dolinay"
      ],
      "metadata": {
        "id": "Zee1Qc2bMe9h"
      }
    }
  ]
}